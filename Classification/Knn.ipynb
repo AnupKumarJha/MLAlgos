{
 "cells": [
  {
   "cell_type": "code",
   "execution_count": 1,
   "metadata": {
    "collapsed": true
   },
   "outputs": [],
   "source": [
    "from collections import Counter\n",
    "\"\"\"k-Nearest Neighbors\"\"\"\n",
    "# Very simple predictive model\n",
    "\n",
    "\n",
    "def raw_majority_vote(lables):\n",
    "    votes=Counter(lables)\n",
    "    winner,=votes.most_common(1)[0]\n",
    "    return winner"
   ]
  }
 ],
 "metadata": {
  "kernelspec": {
   "name": "pycharm-e4058bab",
   "language": "python",
   "display_name": "PyCharm (ML_Algo_From_Scratch)"
  },
  "language_info": {
   "codemirror_mode": {
    "name": "ipython",
    "version": 2
   },
   "file_extension": ".py",
   "mimetype": "text/x-python",
   "name": "python",
   "nbconvert_exporter": "python",
   "pygments_lexer": "ipython2",
   "version": "2.7.6"
  }
 },
 "nbformat": 4,
 "nbformat_minor": 0
}