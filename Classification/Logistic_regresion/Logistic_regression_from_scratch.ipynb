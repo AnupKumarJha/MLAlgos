{
 "cells": [
  {
   "cell_type": "code",
   "execution_count": 25,
   "metadata": {
    "collapsed": true
   },
   "outputs": [
    {
     "name": "stdout",
     "output_type": "stream",
     "text": [
      "Done\n"
     ]
    }
   ],
   "source": [
    "import numpy as np\n",
    "import pandas as pd\n",
    "print(\"Done\")\n",
    "\n",
    "df=pd.read_csv(\"Social_Network_Ads.csv\")\n",
    "X=df.iloc[:,[2,3]].values.astype(float)\n",
    "\n",
    "y=df.iloc[:,[4]].values.astype(int)"
   ]
  },
  {
   "cell_type": "code",
   "execution_count": 26,
   "outputs": [
    {
     "name": "stdout",
     "output_type": "stream",
     "text": [
      "Done\n"
     ]
    }
   ],
   "source": [
    "from sklearn.model_selection import train_test_split\n",
    "X_train, X_test, y_train, y_test = train_test_split(X, y, test_size = 0.2, random_state = 0)\n",
    "print(\"Done\")\n"
   ],
   "metadata": {
    "collapsed": false,
    "pycharm": {
     "name": "#%%\n"
    }
   }
  },
  {
   "cell_type": "code",
   "execution_count": 27,
   "outputs": [
    {
     "name": "stdout",
     "output_type": "stream",
     "text": [
      "done\n"
     ]
    }
   ],
   "source": [
    "# Feature Scaling\n",
    "from sklearn.preprocessing import StandardScaler\n",
    "sc_X = StandardScaler()\n",
    "X_train = sc_X.fit_transform(X_train)\n",
    "X_test = sc_X.transform(X_test)\n",
    "print(\"done\")"
   ],
   "metadata": {
    "collapsed": false,
    "pycharm": {
     "name": "#%%\n"
    }
   }
  },
  {
   "cell_type": "code",
   "execution_count": 4,
   "outputs": [
    {
     "name": "stdout",
     "output_type": "stream",
     "text": [
      "done\n"
     ]
    }
   ],
   "source": [
    "# class LogisticRegression:\n",
    "#     def __int__(self, learning_rate=0.001, no_of_iteration=100):\n",
    "#         self.lr = learning_rate\n",
    "#         self.no_iters = no_of_iteration\n",
    "#         self.weight = None\n",
    "#         self.bais = None\n",
    "#\n",
    "#     def fit(self, X, y):\n",
    "#         no_sample, no_feature = X.shape\n",
    "#         self.weight = np.zeros((no_feature,1),float)\n",
    "#         self.bais = 0\n",
    "#\n",
    "#         for _ in range(100):\n",
    "#             linear_model = np.dot(X,self.weight) + self.bais\n",
    "#             # apply the sigmoid function\n",
    "#             # y_predicted = _sigmoid(linear_model)\n",
    "#             y_predicted=1 / (1 + np.exp(-1 * linear_model))\n",
    "#             dw = 1 / (no_sample) * np.dot(X.T, (y_predicted - y))\n",
    "#             db = 1 / (no_sample) * np.sum(y_predicted - y)\n",
    "#             # update parameter\n",
    "#             self.weight -= 0.001 * dw\n",
    "#             self.bais -= 0.001 * db\n",
    "#     def predict(self,X):\n",
    "#         linear_model = np.dot(X,self.weight) + self.bais\n",
    "#         # apply the sigmoid function\n",
    "#         y_predicted =1 / (1 + np.exp(-1 * linear_model))\n",
    "#         y_predicted_cls=[1 if i >= 0.5 else 0 for i in y_predicted]\n",
    "#         return np.array(y_predicted_cls)\n",
    "#\n",
    "#\n",
    "#     # def _sigmoid(self, linear_model):\n",
    "#     #     return 1 / (1 + np.exp(-1 * linear_model))\n",
    "# print(\"done\")"
   ],
   "metadata": {
    "collapsed": false,
    "pycharm": {
     "name": "#%%\n"
    }
   }
  },
  {
   "cell_type": "code",
   "execution_count": 29,
   "outputs": [
    {
     "name": "stdout",
     "output_type": "stream",
     "text": [
      "done\n"
     ]
    }
   ],
   "source": [
    "class LogisticRegression:\n",
    "\n",
    "    def __init__(self, learning_rate=0.001, n_iters=1000):\n",
    "        self.lr = learning_rate\n",
    "        self.n_iters = n_iters\n",
    "        self.weights = None\n",
    "        self.bias = None\n",
    "\n",
    "    def fit(self, X, y):\n",
    "        n_samples, n_features = X.shape\n",
    "\n",
    "        # init parameters\n",
    "        self.weights = np.zeros((n_features,1),float)\n",
    "\n",
    "        self.bias = 0\n",
    "\n",
    "        # gradient descent\n",
    "        for _ in range(self.n_iters):\n",
    "            # approximate y with linear combination of weights and x, plus bias\n",
    "            linear_model = np.dot(X, self.weights) + self.bias\n",
    "            # apply sigmoid function\n",
    "            y_predicted = self._sigmoid(linear_model)\n",
    "\n",
    "            # compute gradients\n",
    "            dw = (1 / n_samples) * np.dot(X.T, (y_predicted - y))\n",
    "            db = (1 / n_samples) * np.sum(y_predicted - y)\n",
    "            # update parameters\n",
    "            self.weights -= self.lr * dw\n",
    "            self.bias -= self.lr * db\n",
    "\n",
    "    def predict(self, X):\n",
    "        linear_model = np.dot(X, self.weights) + self.bias\n",
    "        y_predicted = self._sigmoid(linear_model)\n",
    "        y_predicted_cls = [1 if i > 0.5 else 0 for i in y_predicted]\n",
    "        return np.array(y_predicted_cls)\n",
    "\n",
    "    def _sigmoid(self, x):\n",
    "        return 1 / (1 + np.exp(-x))\n",
    "\n",
    "print(\"done\")"
   ],
   "metadata": {
    "collapsed": false,
    "pycharm": {
     "name": "#%%\n"
    }
   }
  },
  {
   "cell_type": "code",
   "execution_count": 32,
   "outputs": [],
   "source": [
    "regressor=LogisticRegression()\n",
    "# X=[[1]]\n",
    "regressor.fit(X_train,y_train)\n",
    "y_pred=regressor.predict(X_test)"
   ],
   "metadata": {
    "collapsed": false,
    "pycharm": {
     "name": "#%%\n"
    }
   }
  },
  {
   "cell_type": "code",
   "execution_count": 35,
   "outputs": [
    {
     "data": {
      "text/plain": "0.925"
     },
     "execution_count": 35,
     "metadata": {},
     "output_type": "execute_result"
    }
   ],
   "source": [
    "# Checking accuracy\n",
    "from sklearn.metrics import  confusion_matrix\n",
    "cm=confusion_matrix(y_test,y_pred)\n",
    "accuracy=(cm[0][0]+cm[1][1])/len(y_pred)\n",
    "accuracy\n"
   ],
   "metadata": {
    "collapsed": false,
    "pycharm": {
     "name": "#%%\n"
    }
   }
  }
 ],
 "metadata": {
  "kernelspec": {
   "name": "pycharm-e4058bab",
   "language": "python",
   "display_name": "PyCharm (ML_Algo_From_Scratch)"
  },
  "language_info": {
   "codemirror_mode": {
    "name": "ipython",
    "version": 2
   },
   "file_extension": ".py",
   "mimetype": "text/x-python",
   "name": "python",
   "nbconvert_exporter": "python",
   "pygments_lexer": "ipython2",
   "version": "2.7.6"
  }
 },
 "nbformat": 4,
 "nbformat_minor": 0
}